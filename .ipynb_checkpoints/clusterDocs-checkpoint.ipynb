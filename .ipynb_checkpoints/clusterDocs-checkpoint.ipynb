{
 "cells": [
  {
   "cell_type": "code",
   "execution_count": 52,
   "metadata": {
    "scrolled": true
   },
   "outputs": [],
   "source": [
    "import numpy as np\n",
    "import pandas as pd\n",
    "import matplotlib.pyplot as plt\n",
    "import seaborn as sns\n",
    "import time\n",
    "# reading file form data directory\n",
    "import os\n",
    "# for clustering\n",
    "from sklearn.feature_extraction.text import TfidfVectorizer\n",
    "from sklearn.cluster import KMeans\n"
   ]
  },
  {
   "cell_type": "code",
   "execution_count": 77,
   "metadata": {},
   "outputs": [
    {
     "name": "stdout",
     "output_type": "stream",
     "text": [
      "Xref: cantaloupe.srv.cs.cmu.edu talk.politics.misc:176869 alt.sex:110443 soc.men:67802 misc.legal:59959\n",
      "Path: cantaloupe.srv.cs.cmu.edu!das-news.harvard.edu!husc-news.harvard.edu!hsdndev!yale!gumby!wupost!zaphod.mps.ohio-state.edu!ub!galileo.cc.rochester.edu!uhura.cc.rochester.edu!as010b\n",
      "Newsgroups: talk.politics.misc,alt.sex,soc.men,misc.legal\n",
      "Subject: Re: Stop putting down white het males.\n",
      "Message-ID: <1993Apr5.213327.23802@galileo.cc.rochester.edu>\n",
      "From: as010b@uhura.cc.rochester.edu (Tree of Schnopia)\n",
      "Date: 5 Apr 93 21:33:27 GMT\n",
      "Sender: news@galileo.cc.rochester.edu\n",
      "References: <DJNg2B1w165w@cybernet.cse.fau.edu> <C50FHG.MEA@ocsmd.ocs.com>\n",
      "Organization: University of Rochester - Rochester, New York\n",
      "Nntp-Posting-Host: uhura.cc.rochester.edu\n",
      "Lines: 32\n",
      "\n",
      "In <C50FHG.MEA@ocsmd.ocs.com> mark@ocsmd.ocs.com (Mark Wilson) writes:\n",
      "\n",
      ">Yuri Villanueva (elmo@cybernet.cse.fau.edu) wrote:\n",
      ">: pbray@envy.reed.edu (Public account) writes:\n",
      ">: \n",
      ">: > In article <1993Apr2.180839.14305@galileo.cc.rochester.edu>  \n",
      ">: > as010b@uhura.cc.rochester.edu (Tree of Schnopia) writes:\n",
      ">: >> In <1993Apr2.064804.29008@jato.jpl.nasa.gov>  \n",
      ">: >> michael@neuron6.jpl.nasa.gov (Michael Rivero) writes:\n",
      ">: >> \n",
      ">: >>We are told, by U.S. congresswoman Barbara Jordan, that we are biologically\n",
      ">: >>incapable of compassion.\n",
      ">Personally, I doubt she said anything of the kind, but if\n",
      ">someone can provide the ORIGINAL quote, IN CONTEXT, WITH SOURCE\n",
      ">(for, ahem, cross-checking), I would we willing to agree\n",
      ">she is full of sh*t.  Naturally, if no one can provide these\n",
      ">bits of data, the paraphrase listed must be disregarded,\n",
      ">and its poster regarded as full of sh*t.  OK, so which will it be?\n",
      "\n",
      "I followed up without a thought of double-checking...if I double-checked\n",
      "every fact people vomited onto the table here on the net, I'd never have\n",
      "time to sleep.  But to pass the buck to the person who originally posted\n",
      "that quote...\n",
      "\n",
      "...well, Michael?  Take it away!  (wild applause)\n",
      "\n",
      "Drewcifer\n",
      "-- \n",
      "----bi    Andrew D. Simchik\t\t\t\t\tSCHNOPIA!\n",
      "\\ ----    as010b@uhura.cc.rochester.edu\t\t\t\tTreeWater\n",
      " \\\\  /    \n",
      "   \\/     \"Words Weren't Made For Cowards\"--Happy Rhodes\n",
      "\n"
     ]
    }
   ],
   "source": [
    "# get names of all the files to be clustered\n",
    "files = os.listdir('/mnt/c/_programming/medius-intern-challenge/ClusterDocs/data')\n",
    "# ignore the .DS_STORE file\n",
    "files.remove(files[0])\n",
    "# store the contents into a list\n",
    "docs_list = []\n",
    "path = '/mnt/c/_programming/medius-intern-challenge/ClusterDocs/data/'\n",
    "for file in files:\n",
    "    p = path+file\n",
    "    # to handle different encodings\n",
    "    f = open(p, encoding=\"ascii\", errors=\"surrogateescape\")\n",
    "    contents = f.read()\n",
    "    docs_list.append(contents)"
   ]
  }
 ],
 "metadata": {
  "kernelspec": {
   "display_name": "Python 3",
   "language": "python",
   "name": "python3"
  },
  "language_info": {
   "codemirror_mode": {
    "name": "ipython",
    "version": 3
   },
   "file_extension": ".py",
   "mimetype": "text/x-python",
   "name": "python",
   "nbconvert_exporter": "python",
   "pygments_lexer": "ipython3",
   "version": "3.6.9"
  }
 },
 "nbformat": 4,
 "nbformat_minor": 4
}
