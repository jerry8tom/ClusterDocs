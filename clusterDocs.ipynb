{
 "cells": [
  {
   "cell_type": "code",
   "execution_count": 52,
   "metadata": {
    "scrolled": true
   },
   "outputs": [],
   "source": [
    "import numpy as np\n",
    "import pandas as pd\n",
    "import matplotlib.pyplot as plt\n",
    "import seaborn as sns\n",
    "import time\n",
    "# reading file form data directory\n",
    "import os\n",
    "# for clustering\n",
    "from sklearn.feature_extraction.text import TfidfVectorizer\n",
    "from sklearn.cluster import KMeans\n"
   ]
  },
  {
   "cell_type": "code",
   "execution_count": 78,
   "metadata": {},
   "outputs": [],
   "source": [
    "# get names of all the files to be clustered\n",
    "files = os.listdir('/mnt/c/_programming/medius-intern-challenge/ClusterDocs/data')\n",
    "# ignore the .DS_STORE file\n",
    "files.remove(files[0])\n",
    "# store the contents into a list\n",
    "docs_list = []\n",
    "path = '/mnt/c/_programming/medius-intern-challenge/ClusterDocs/data/'\n",
    "for file in files:\n",
    "    p = path+file\n",
    "    # to handle different encodings\n",
    "    f = open(p, encoding=\"ascii\", errors=\"surrogateescape\")\n",
    "    contents = f.read()\n",
    "    docs_list.append(contents)"
   ]
  }
 ],
 "metadata": {
  "kernelspec": {
   "display_name": "Python 3",
   "language": "python",
   "name": "python3"
  },
  "language_info": {
   "codemirror_mode": {
    "name": "ipython",
    "version": 3
   },
   "file_extension": ".py",
   "mimetype": "text/x-python",
   "name": "python",
   "nbconvert_exporter": "python",
   "pygments_lexer": "ipython3",
   "version": "3.6.9"
  }
 },
 "nbformat": 4,
 "nbformat_minor": 4
}
