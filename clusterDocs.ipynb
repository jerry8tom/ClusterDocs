{
 "cells": [
  {
   "cell_type": "code",
   "execution_count": 104,
   "metadata": {
    "scrolled": true
   },
   "outputs": [
    {
     "name": "stderr",
     "output_type": "stream",
     "text": [
      "[nltk_data] Downloading package stopwords to /root/nltk_data...\n",
      "[nltk_data]   Package stopwords is already up-to-date!\n",
      "[nltk_data] Downloading package punkt to /root/nltk_data...\n",
      "[nltk_data]   Unzipping tokenizers/punkt.zip.\n"
     ]
    }
   ],
   "source": [
    "import numpy as np\n",
    "import pandas as pd\n",
    "import nltk\n",
    "nltk.download('stopwords')\n",
    "nltk.download('punkt')\n",
    "from nltk.tokenize import word_tokenize \n",
    "import matplotlib.pyplot as plt\n",
    "import seaborn as sns\n",
    "import time\n",
    "# reading file form data directory\n",
    "import os\n",
    "# for clustering\n",
    "from sklearn.feature_extraction.text import TfidfVectorizer\n",
    "from sklearn.cluster import KMeans\n"
   ]
  },
  {
   "cell_type": "code",
   "execution_count": 127,
   "metadata": {},
   "outputs": [],
   "source": [
    "# get names of all the files to be clustered\n",
    "files = os.listdir('/mnt/c/_programming/medius-intern-challenge/ClusterDocs/data')\n",
    "# ignore the .DS_STORE file\n",
    "files.remove(files[0])\n",
    "# store the contents into a list\n",
    "docsList = []\n",
    "path = '/mnt/c/_programming/medius-intern-challenge/ClusterDocs/data/'\n",
    "for file in files:\n",
    "    p = path+file\n",
    "    # to handle different encodings\n",
    "    f = open(p, encoding=\"ascii\", errors=\"surrogateescape\")\n",
    "    contents = f.read()\n",
    "    docsList.append(contents)\n",
    "    "
   ]
  },
  {
   "cell_type": "code",
   "execution_count": 128,
   "metadata": {},
   "outputs": [],
   "source": [
    "cleanDocs = []\n",
    "for doc in docs_list:\n",
    "    tokens = word_tokenize(docsList[169])\n",
    "    symbols = ['!', '|',':', '>', '<', '-', '.', '@','(',')', '/', \"\\\\\", \"*\", ',', '//', '\\\\\\\\','?', '\\/', '--', '\\'', '\\'\\'', '...', '^']\n",
    "    newToken = \"\"\n",
    "    for word in tokens:\n",
    "        if word not in symbols and word not in stopwords.words('english'):\n",
    "            newToken = newToken + \" \" + word\n",
    "    cleanDocs.append(newToken)\n",
    "        "
   ]
  },
  {
   "cell_type": "code",
   "execution_count": 130,
   "metadata": {},
   "outputs": [
    {
     "data": {
      "text/plain": [
       "' Path cantaloupe.srv.cs.cmu.edu rochester cornell batcomputer caen sdd.hp.com usc howland.reston.ans.net ira.uka.de math.fu-berlin.de irz401 irzr17.inf.tu-dresden.de beck From beck irzr17.inf.tu-dresden.de Andre Beck Newsgroups comp.graphics Subject Re WANTED 24 bit viewer Date 28 Apr 1993 11:27:55 GMT Organization Dept Computer Science TU Dresden Germany Lines 22 Distribution world Message-ID 1rlpnr $ pto irz401.inf.tu-dresden.de References 5731 seti.inria.fr Reply-To Andre_Beck IRS.Inf.TU-Dresden.DE NNTP-Posting-Host irzr17.inf.tu-dresden.de In article 5731 seti.inria.fr deniaud cartoon.inria.fr Gilles Deniaud writes Thanks people helped problem displaying 24 bit images All viewers like xli xloadimage display converting 24 bit images 8 bit display screen What I really viewer make use 24 bit frame/screen buffer case Parallax Try ImageMagick I test told 24bit Anyway SURE Xserver supports 24bit TrueColor visuals Check xdpyinfo +-o-+ +-o-+ \\\\\\\\\\\\- Brain Inside -/// ^^^^^^^^^^^^^^^ Andre Beck ABPSoft mehl Andre_Beck IRS.Inf.TU-Dresden.de +-o-+ +-o-+'"
      ]
     },
     "execution_count": 130,
     "metadata": {},
     "output_type": "execute_result"
    }
   ],
   "source": [
    "cleanDocs[120]"
   ]
  }
 ],
 "metadata": {
  "kernelspec": {
   "display_name": "Python 3",
   "language": "python",
   "name": "python3"
  },
  "language_info": {
   "codemirror_mode": {
    "name": "ipython",
    "version": 3
   },
   "file_extension": ".py",
   "mimetype": "text/x-python",
   "name": "python",
   "nbconvert_exporter": "python",
   "pygments_lexer": "ipython3",
   "version": "3.6.9"
  }
 },
 "nbformat": 4,
 "nbformat_minor": 4
}
